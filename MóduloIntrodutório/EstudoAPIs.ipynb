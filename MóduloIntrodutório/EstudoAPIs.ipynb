{
 "cells": [
  {
   "cell_type": "markdown",
   "metadata": {},
   "source": [
    "API"
   ]
  },
  {
   "cell_type": "code",
   "execution_count": 4,
   "metadata": {},
   "outputs": [
    {
     "name": "stdout",
     "output_type": "stream",
     "text": [
      "200\n"
     ]
    }
   ],
   "source": [
    "import requests\n",
    "\n",
    "url = 'https://api.exchangerate-api.com/v6/latest'\n",
    "\n",
    "req = requests.get(url)\n",
    "\n",
    "print(req.status_code)"
   ]
  },
  {
   "cell_type": "code",
   "execution_count": 7,
   "metadata": {},
   "outputs": [
    {
     "data": {
      "text/plain": [
       "{'result': 'success',\n",
       " 'provider': 'https://www.exchangerate-api.com',\n",
       " 'documentation': 'https://www.exchangerate-api.com/docs/free',\n",
       " 'terms_of_use': 'https://www.exchangerate-api.com/terms',\n",
       " 'time_last_update_unix': 1663200151,\n",
       " 'time_last_update_utc': 'Thu, 15 Sep 2022 00:02:31 +0000',\n",
       " 'time_next_update_unix': 1663288541,\n",
       " 'time_next_update_utc': 'Fri, 16 Sep 2022 00:35:41 +0000',\n",
       " 'time_eol_unix': 0,\n",
       " 'base_code': 'USD',\n",
       " 'rates': {'USD': 1,\n",
       "  'AED': 3.6725,\n",
       "  'AFN': 87.861421,\n",
       "  'ALL': 116.925729,\n",
       "  'AMD': 405.474106,\n",
       "  'ANG': 1.79,\n",
       "  'AOA': 429.085521,\n",
       "  'ARS': 142.113405,\n",
       "  'AUD': 1.482075,\n",
       "  'AWG': 1.79,\n",
       "  'AZN': 1.693472,\n",
       "  'BAM': 1.957893,\n",
       "  'BBD': 2,\n",
       "  'BDT': 101.403957,\n",
       "  'BGN': 1.957879,\n",
       "  'BHD': 0.376,\n",
       "  'BIF': 2042.664829,\n",
       "  'BMD': 1,\n",
       "  'BND': 1.405335,\n",
       "  'BOB': 6.889088,\n",
       "  'BRL': 5.186253,\n",
       "  'BSD': 1,\n",
       "  'BTN': 79.363256,\n",
       "  'BWP': 13.022854,\n",
       "  'BYN': 2.881216,\n",
       "  'BZD': 2,\n",
       "  'CAD': 1.31573,\n",
       "  'CDF': 2033.891756,\n",
       "  'CHF': 0.961748,\n",
       "  'CLP': 918.097476,\n",
       "  'CNY': 6.957199,\n",
       "  'COP': 4394.095549,\n",
       "  'CRC': 633.107753,\n",
       "  'CUP': 24,\n",
       "  'CVE': 110.381294,\n",
       "  'CZK': 24.551877,\n",
       "  'DJF': 177.721,\n",
       "  'DKK': 7.468248,\n",
       "  'DOP': 53.387261,\n",
       "  'DZD': 140.705681,\n",
       "  'EGP': 19.312676,\n",
       "  'ERN': 15,\n",
       "  'ETB': 52.56616,\n",
       "  'EUR': 1.001078,\n",
       "  'FJD': 2.23276,\n",
       "  'FKP': 0.866057,\n",
       "  'FOK': 7.468248,\n",
       "  'GBP': 0.866067,\n",
       "  'GEL': 2.82153,\n",
       "  'GGP': 0.866057,\n",
       "  'GHS': 10.118504,\n",
       "  'GIP': 0.866057,\n",
       "  'GMD': 55.413062,\n",
       "  'GNF': 8596.128878,\n",
       "  'GTQ': 7.757733,\n",
       "  'GYD': 207.832722,\n",
       "  'HKD': 7.851529,\n",
       "  'HNL': 24.684622,\n",
       "  'HRK': 7.542446,\n",
       "  'HTG': 117.439362,\n",
       "  'HUF': 404.03132,\n",
       "  'IDR': 14878.534998,\n",
       "  'ILS': 3.433856,\n",
       "  'IMP': 0.866057,\n",
       "  'INR': 79.364719,\n",
       "  'IQD': 1449.949449,\n",
       "  'IRR': 41808.097653,\n",
       "  'ISK': 139.830544,\n",
       "  'JEP': 0.866057,\n",
       "  'JMD': 151.738998,\n",
       "  'JOD': 0.709,\n",
       "  'JPY': 142.984255,\n",
       "  'KES': 120.439448,\n",
       "  'KGS': 81.706115,\n",
       "  'KHR': 4081.292493,\n",
       "  'KID': 1.482091,\n",
       "  'KMF': 492.486616,\n",
       "  'KRW': 1390.277879,\n",
       "  'KWD': 0.29963,\n",
       "  'KYD': 0.833333,\n",
       "  'KZT': 472.745017,\n",
       "  'LAK': 17017.816145,\n",
       "  'LBP': 1507.5,\n",
       "  'LKR': 359.441891,\n",
       "  'LRD': 153.247848,\n",
       "  'LSL': 17.456188,\n",
       "  'LYD': 4.891086,\n",
       "  'MAD': 10.747291,\n",
       "  'MDL': 19.293247,\n",
       "  'MGA': 4136.594335,\n",
       "  'MKD': 60.972386,\n",
       "  'MMK': 2490.039648,\n",
       "  'MNT': 3219.126452,\n",
       "  'MOP': 8.087037,\n",
       "  'MRU': 37.547891,\n",
       "  'MUR': 44.468111,\n",
       "  'MVR': 15.363765,\n",
       "  'MWK': 1026.289932,\n",
       "  'MXN': 19.979914,\n",
       "  'MYR': 4.511633,\n",
       "  'MZN': 64.352128,\n",
       "  'NAD': 17.456188,\n",
       "  'NGN': 425.10131,\n",
       "  'NIO': 35.974118,\n",
       "  'NOK': 10.093989,\n",
       "  'NPR': 126.981209,\n",
       "  'NZD': 1.664304,\n",
       "  'OMR': 0.384497,\n",
       "  'PAB': 1,\n",
       "  'PEN': 3.848813,\n",
       "  'PGK': 3.508255,\n",
       "  'PHP': 57.05568,\n",
       "  'PKR': 232.967344,\n",
       "  'PLN': 4.716222,\n",
       "  'PYG': 6911.223384,\n",
       "  'QAR': 3.64,\n",
       "  'RON': 4.930202,\n",
       "  'RSD': 117.193906,\n",
       "  'RUB': 59.635106,\n",
       "  'RWF': 1046.345762,\n",
       "  'SAR': 3.75,\n",
       "  'SBD': 8.045046,\n",
       "  'SCR': 12.844254,\n",
       "  'SDG': 565.37146,\n",
       "  'SEK': 10.682147,\n",
       "  'SGD': 1.405342,\n",
       "  'SHP': 0.866057,\n",
       "  'SLE': 14.353169,\n",
       "  'SLL': 14353.169322,\n",
       "  'SOS': 564.731845,\n",
       "  'SRD': 26.835257,\n",
       "  'SSP': 645.510905,\n",
       "  'STN': 24.52584,\n",
       "  'SYP': 2483.727911,\n",
       "  'SZL': 17.456188,\n",
       "  'THB': 36.607798,\n",
       "  'TJS': 10.1416,\n",
       "  'TMT': 3.490065,\n",
       "  'TND': 3.073149,\n",
       "  'TOP': 2.362595,\n",
       "  'TRY': 18.264398,\n",
       "  'TTD': 6.756607,\n",
       "  'TVD': 1.482091,\n",
       "  'TWD': 31.01605,\n",
       "  'TZS': 2322.583153,\n",
       "  'UAH': 37.166073,\n",
       "  'UGX': 3799.819241,\n",
       "  'UYU': 40.796276,\n",
       "  'UZS': 10928.769498,\n",
       "  'VES': 8.0294,\n",
       "  'VND': 23557.306548,\n",
       "  'VUV': 116.797632,\n",
       "  'WST': 2.674656,\n",
       "  'XAF': 656.648821,\n",
       "  'XCD': 2.7,\n",
       "  'XDR': 0.773379,\n",
       "  'XOF': 656.648821,\n",
       "  'XPF': 119.457856,\n",
       "  'YER': 249.162876,\n",
       "  'ZAR': 17.456407,\n",
       "  'ZMW': 15.520936,\n",
       "  'ZWL': 602.834117}}"
      ]
     },
     "execution_count": 7,
     "metadata": {},
     "output_type": "execute_result"
    }
   ],
   "source": [
    "data = req.json()\n",
    "data"
   ]
  },
  {
   "cell_type": "code",
   "execution_count": 10,
   "metadata": {},
   "outputs": [
    {
     "name": "stdout",
     "output_type": "stream",
     "text": [
      "R$6 em dólar valem US$1.16\n"
     ]
    }
   ],
   "source": [
    "reais = 6\n",
    "cotacao = data['rates']['BRL']\n",
    "print(f'R${reais} em dólar valem US${(reais/cotacao):.2f}')"
   ]
  },
  {
   "cell_type": "code",
   "execution_count": null,
   "metadata": {},
   "outputs": [],
   "source": []
  }
 ],
 "metadata": {
  "kernelspec": {
   "display_name": "Python 3.10.7 64-bit (microsoft store)",
   "language": "python",
   "name": "python3"
  },
  "language_info": {
   "codemirror_mode": {
    "name": "ipython",
    "version": 3
   },
   "file_extension": ".py",
   "mimetype": "text/x-python",
   "name": "python",
   "nbconvert_exporter": "python",
   "pygments_lexer": "ipython3",
   "version": "3.10.7"
  },
  "orig_nbformat": 4,
  "vscode": {
   "interpreter": {
    "hash": "c8c0033f32e0b97da5e253b3ebf52791557ccd8bac7febf61d2badd7a5841809"
   }
  }
 },
 "nbformat": 4,
 "nbformat_minor": 2
}
